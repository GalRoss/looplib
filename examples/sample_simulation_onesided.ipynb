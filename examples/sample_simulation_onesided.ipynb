{
 "cells": [
  {
   "cell_type": "markdown",
   "metadata": {
    "toc": "true"
   },
   "source": [
    "# Table of Contents\n",
    " <p><div class=\"lev1\"><a href=\"#Single-loop\"><span class=\"toc-item-num\">1&nbsp;&nbsp;</span>Single loop</a></div><div class=\"lev1\"><a href=\"#Many-LEFs\"><span class=\"toc-item-num\">2&nbsp;&nbsp;</span>Many LEFs</a></div><div class=\"lev1\"><a href=\"#Statistics-of-loop-arrays.\"><span class=\"toc-item-num\">3&nbsp;&nbsp;</span>Statistics of loop arrays.</a></div><div class=\"lev1\"><a href=\"#Visualize-loops\"><span class=\"toc-item-num\">4&nbsp;&nbsp;</span>Visualize loops</a></div>"
   ]
  },
  {
   "cell_type": "code",
   "execution_count": null,
   "metadata": {
    "ExecuteTime": {
     "end_time": "2018-02-12T22:52:48.190265Z",
     "start_time": "2018-02-12T22:52:48.180428Z"
    },
    "init_cell": true,
    "run_control": {
     "frozen": false,
     "read_only": false
    }
   },
   "outputs": [],
   "source": [
    "import sys\n",
    "\n",
    "import numpy as np\n",
    "\n",
    "import pyximport; pyximport.install(\n",
    "    setup_args={\"include_dirs\":np.get_include()},\n",
    "    reload_support=True)\n",
    "from looplib import loopviz, looptools, simlef_onesided, simlef\n",
    "import os, sys, glob, shelve, time\n"
   ]
  },
  {
   "cell_type": "code",
   "execution_count": null,
   "metadata": {
    "ExecuteTime": {
     "end_time": "2018-02-12T22:52:50.160493Z",
     "start_time": "2018-02-12T22:52:50.148936Z"
    },
    "collapsed": true,
    "init_cell": true,
    "run_control": {
     "frozen": false,
     "read_only": false
    }
   },
   "outputs": [],
   "source": [
    "import matplotlib.pyplot as plt\n",
    "%matplotlib inline\n",
    "\n",
    "from importlib import reload\n",
    "reload(loopviz)\n",
    "\n",
    "import seaborn as sns\n",
    "sns.set_style('white')"
   ]
  },
  {
   "cell_type": "markdown",
   "metadata": {},
   "source": [
    "# Single loop"
   ]
  },
  {
   "cell_type": "code",
   "execution_count": null,
   "metadata": {
    "ExecuteTime": {
     "end_time": "2018-02-12T22:46:15.259908Z",
     "start_time": "2018-02-12T22:46:15.183650Z"
    },
    "run_control": {
     "frozen": false,
     "read_only": false
    }
   },
   "outputs": [],
   "source": [
    "p = {}\n",
    "p['L'] = 100\n",
    "p['N'] = 1\n",
    "p['R_OFF'] = 1.0 / 100\n",
    "p['R_EXTEND'] = float(1.0)\n",
    "p['R_SHRINK'] = 0#float(.4)\n",
    "p['R_SWITCH'] =  0.03\n",
    "\n",
    "p['T_MAX_LIFETIMES'] = 3.0\n",
    "p['T_MAX'] = p['T_MAX_LIFETIMES'] / p['R_OFF']\n",
    "p['N_SNAPSHOTS'] = 300\n",
    "p['PROCESS_NAME'] = b'proc'\n",
    "\n",
    "l_sites, r_sites, leading_legs, ts = simlef_onesided.simulate(p)\n",
    "#l_sites, r_sites, ts = simlef.simulate(p)\n",
    "print(ts)\n"
   ]
  },
  {
   "cell_type": "code",
   "execution_count": null,
   "metadata": {
    "ExecuteTime": {
     "end_time": "2018-02-12T22:46:16.026154Z",
     "start_time": "2018-02-12T22:46:15.793953Z"
    },
    "run_control": {
     "frozen": false,
     "read_only": false
    }
   },
   "outputs": [],
   "source": [
    "n=0\n",
    "plt.plot(\n",
    "    l_sites[:,n], c='b')\n",
    "plt.plot(\n",
    "    r_sites[:,n], c='g')\n",
    "\n",
    "plt.xlim(0,100)"
   ]
  },
  {
   "cell_type": "markdown",
   "metadata": {},
   "source": [
    "# Many LEFs"
   ]
  },
  {
   "cell_type": "code",
   "execution_count": null,
   "metadata": {
    "ExecuteTime": {
     "end_time": "2018-02-12T22:48:57.788181Z",
     "start_time": "2018-02-12T22:46:24.366535Z"
    },
    "run_control": {
     "frozen": false,
     "read_only": false
    }
   },
   "outputs": [],
   "source": [
    "p = {}\n",
    "p['L'] = 20000\n",
    "p['N'] = 300\n",
    "p['R_OFF'] = 1.0 / 1000.0\n",
    "p['R_EXTEND'] = float(2.0)\n",
    "p['R_SHRINK'] = float(0.1)\n",
    "\n",
    "p['R_SWITCH'] = p['R_OFF'] * 10\n",
    "\n",
    "p['T_MAX_LIFETIMES'] = 100.0\n",
    "p['T_MAX'] = p['T_MAX_LIFETIMES'] / p['R_OFF']\n",
    "p['N_SNAPSHOTS'] = 200\n",
    "p['PROCESS_NAME'] = b'proc'\n",
    "\n",
    "l_sites, r_sites, leading_legs, ts = simlef_onesided.simulate(p)\n",
    "#l_sites, r_sites, ts = simlef.simulate(p)\n"
   ]
  },
  {
   "cell_type": "code",
   "execution_count": null,
   "metadata": {
    "ExecuteTime": {
     "end_time": "2018-02-12T22:49:10.301686Z",
     "start_time": "2018-02-12T22:49:09.992291Z"
    },
    "run_control": {
     "frozen": false,
     "read_only": false
    }
   },
   "outputs": [],
   "source": [
    "plt.figure(figsize=(15,5))\n",
    "n=0\n",
    "plt.step(\n",
    "    ts,\n",
    "    l_sites[:,n], c='g',where='post',)\n",
    "plt.step(\n",
    "    ts,\n",
    "    r_sites[:,n], c='g',where='post',)\n",
    "\n",
    "\n",
    "n=1\n",
    "plt.step(\n",
    "    ts,\n",
    "    l_sites[:,n], c='b',\n",
    "    where='post',)\n",
    "plt.step(\n",
    "    ts,\n",
    "    r_sites[:,n], c='b',\n",
    "    where='post',)"
   ]
  },
  {
   "cell_type": "markdown",
   "metadata": {},
   "source": [
    "# Statistics of loop arrays."
   ]
  },
  {
   "cell_type": "code",
   "execution_count": null,
   "metadata": {
    "ExecuteTime": {
     "end_time": "2018-02-12T22:49:12.887419Z",
     "start_time": "2018-02-12T22:49:12.876095Z"
    },
    "collapsed": true,
    "run_control": {
     "frozen": false,
     "read_only": false
    }
   },
   "outputs": [],
   "source": [
    "import collections\n"
   ]
  },
  {
   "cell_type": "code",
   "execution_count": null,
   "metadata": {
    "ExecuteTime": {
     "end_time": "2018-02-12T22:51:06.395682Z",
     "start_time": "2018-02-12T22:51:06.383342Z"
    },
    "run_control": {
     "frozen": false,
     "read_only": false
    }
   },
   "outputs": [],
   "source": [
    "t=-1\n",
    "parents = looptools.get_parent_loops(\n",
    "            l_sites[t], \n",
    "            r_sites[t])\n",
    "root_loops_idxs = np.where(parents == -1)[0]\n",
    "children = looptools.get_loop_branches(parents)"
   ]
  },
  {
   "cell_type": "code",
   "execution_count": null,
   "metadata": {
    "ExecuteTime": {
     "end_time": "2018-02-12T22:51:26.041396Z",
     "start_time": "2018-02-12T22:51:25.690974Z"
    },
    "run_control": {
     "frozen": false,
     "read_only": false
    }
   },
   "outputs": [],
   "source": [
    "plt.hist(\n",
    "    r_sites[t][root_loops_idxs] - l_sites[t][root_loops_idxs],\n",
    "    bins=20)"
   ]
  },
  {
   "cell_type": "markdown",
   "metadata": {
    "ExecuteTime": {
     "end_time": "2018-02-12T22:52:27.426917Z",
     "start_time": "2018-02-12T22:52:27.422813Z"
    }
   },
   "source": [
    "# Visualize loops"
   ]
  },
  {
   "cell_type": "code",
   "execution_count": null,
   "metadata": {
    "ExecuteTime": {
     "end_time": "2018-02-12T22:51:57.030339Z",
     "start_time": "2018-02-12T22:51:54.010385Z"
    },
    "run_control": {
     "frozen": false,
     "read_only": false
    }
   },
   "outputs": [],
   "source": [
    "ts4plot = [0, 5, -20, -1]\n",
    "for t in ts4plot:    \n",
    "    loopviz.prepare_canvas(p['L'])\n",
    "    loopviz.plot_lefs(\n",
    "        l_sites=l_sites[t], \n",
    "        r_sites=r_sites[t], \n",
    "        colors=[(223.0/255.0,90/255.0,73/255.0)] *500,\n",
    "        max_height=200,\n",
    "        plot_text=False,\n",
    "        height_factor=2.0)\n",
    "    plt.xlim(0,p['L']//10)\n",
    "    plt.xticks([])\n",
    "    plt.xlabel('chromosomal position')"
   ]
  },
  {
   "cell_type": "code",
   "execution_count": null,
   "metadata": {
    "ExecuteTime": {
     "end_time": "2018-02-12T22:52:04.211635Z",
     "start_time": "2018-02-12T22:52:03.388492Z"
    },
    "run_control": {
     "frozen": false,
     "read_only": false
    }
   },
   "outputs": [],
   "source": [
    "loopviz.prepare_canvas(p['L'])\n",
    "\n",
    "loopviz.plot_lefs(\n",
    "    l_sites=l_sites[-1,:], \n",
    "    r_sites=r_sites[-1,:], \n",
    "    colors=[(223.0/255.0,90/255.0,73/255.0)] *500,\n",
    "    max_height=200,\n",
    "    plot_text=False,\n",
    "    height_factor=0.5)\n",
    "plt.xlim(10000,15000)\n",
    "plt.xlabel('chromosomal position')"
   ]
  },
  {
   "cell_type": "markdown",
   "metadata": {},
   "source": [
    "# Testing simlef.pyx"
   ]
  },
  {
   "cell_type": "code",
   "execution_count": 1,
   "metadata": {},
   "outputs": [],
   "source": [
    "import sys\n",
    "\n",
    "import numpy as np\n",
    "\n",
    "import pyximport; pyximport.install(\n",
    "    setup_args={\"include_dirs\":np.get_include()},\n",
    "    reload_support=True)\n",
    "from looplib import loopviz, looptools, simlef_onesided, simlef\n",
    "import os, sys, glob, shelve, time\n"
   ]
  },
  {
   "cell_type": "code",
   "execution_count": 2,
   "metadata": {},
   "outputs": [],
   "source": [
    "import matplotlib.pyplot as plt\n",
    "%matplotlib inline\n",
    "\n",
    "from importlib import reload\n",
    "reload(loopviz)\n",
    "\n",
    "import seaborn as sns\n",
    "sns.set_style('white')"
   ]
  },
  {
   "cell_type": "code",
   "execution_count": null,
   "metadata": {},
   "outputs": [],
   "source": [
    "p = {}\n",
    "p['L'] = 20000                  # 20000\n",
    "p['N'] = 2\n",
    "p['R_OFF'] = 1.0 / 1000.0       # 1.0 / 1000.0\n",
    "p['R_EXTEND'] = float(2.0)      # 2.0\n",
    "p['R_SHRINK'] = float(0.1)      # 0.1\n",
    "\n",
    "p['R_SWITCH'] = p['R_OFF'] * 10     # p['R_OFF'] * 10\n",
    "\n",
    "p['T_MAX_LIFETIMES'] = 100.0        # 100.0\n",
    "p['T_MAX'] = p['T_MAX_LIFETIMES'] / p['R_OFF']\n",
    "p['N_SNAPSHOTS'] = 100000              # 200\n",
    "p['PROCESS_NAME'] = b'proc'         # b'proc'\n",
    "\n",
    "l_sites, r_sites, ts = simlef.simulate(p, verbose = True)\n",
    "#l_sites, r_sites, ts = simlef.simulate(p)\n",
    "#print(ts)\n",
    "\n"
   ]
  },
  {
   "cell_type": "code",
   "execution_count": 4,
   "metadata": {},
   "outputs": [
    {
     "name": "stdout",
     "output_type": "stream",
     "text": [
      "Number of -1 entries in l_sites: 29\n"
     ]
    },
    {
     "data": {
      "text/plain": [
       "(0.0, 10000.0)"
      ]
     },
     "execution_count": 4,
     "metadata": {},
     "output_type": "execute_result"
    },
    {
     "data": {
      "image/png": "[encoded data removed]",
      "text/plain": [
       "<Figure size 640x480 with 1 Axes>"
      ]
     },
     "metadata": {},
     "output_type": "display_data"
    }
   ],
   "source": [
    "n=0\n",
    "plt.plot(\n",
    "    l_sites[:,n], c='b')\n",
    "plt.plot(\n",
    "    r_sites[:,n], c='g')\n",
    "num_minus_ones = np.sum(l_sites == -1)\n",
    "print(f\"Number of -1 entries in l_sites: {num_minus_ones}\")\n",
    "\n",
    "plt.xlim(0,10000)"
   ]
  },
  {
   "cell_type": "code",
   "execution_count": 5,
   "metadata": {},
   "outputs": [
    {
     "data": {
      "image/png": "[encoded data removed]",
      "text/plain": [
       "<Figure size 1500x500 with 1 Axes>"
      ]
     },
     "metadata": {},
     "output_type": "display_data"
    },
    {
     "data": {
      "image/png": "[encoded data removed]",
      "text/plain": [
       "<Figure size 1500x500 with 1 Axes>"
      ]
     },
     "metadata": {},
     "output_type": "display_data"
    },
    {
     "data": {
      "image/png": "[encoded data removed]",
      "text/plain": [
       "<Figure size 1500x500 with 1 Axes>"
      ]
     },
     "metadata": {},
     "output_type": "display_data"
    },
    {
     "data": {
      "image/png": "[encoded data removed]",
      "text/plain": [
       "<Figure size 1500x500 with 1 Axes>"
      ]
     },
     "metadata": {},
     "output_type": "display_data"
    }
   ],
   "source": [
    "ts4plot = [0, 5, -20, -1]\n",
    "for t in ts4plot:    \n",
    "    loopviz.prepare_canvas(p['L'])\n",
    "    loopviz.plot_lefs(\n",
    "        l_sites=l_sites[t], \n",
    "        r_sites=r_sites[t], \n",
    "        colors=[(223.0/255.0,90/255.0,73/255.0)] *500,\n",
    "        max_height=200,\n",
    "        plot_text=False,\n",
    "        height_factor=0.1)  # Controlls loop hight, hight is min(max_height, (r-l)/2.0*height_factor)\n",
    "    plt.xlim(0,p['L'])\n",
    "    plt.xticks([])\n",
    "    plt.xlabel('chromosomal position')"
   ]
  },
  {
   "cell_type": "code",
   "execution_count": null,
   "metadata": {},
   "outputs": [],
   "source": [
    "import matplotlib.pyplot as plt\n",
    "from matplotlib.animation import FuncAnimation\n",
    "\n",
    "fig, ax = plt.subplots(figsize=(10, 4))\n",
    "\n",
    "def update(frame):\n",
    "    ax.clear()\n",
    "    ax.set_xlim(-20, p['L'] + 20)\n",
    "    ax.set_ylim(-30, 120)\n",
    "    ax.set_xticks([])\n",
    "    ax.set_yticks([])\n",
    "    ax.axhline(-10, color='gray', lw=5, zorder=-1)\n",
    "    ax.set_xlabel('chromosomal position')\n",
    "    ax.set_title(f\"t = {ts[frame]:.2f}\")\n",
    "    loopviz.plot_lefs(\n",
    "        l_sites=l_sites[frame],\n",
    "        r_sites=r_sites[frame],\n",
    "        colors=[(223.0/255.0,90/255.0,73/255.0)] * 500,\n",
    "        ax=ax,  # Pass ax!\n",
    "        max_height=200,\n",
    "        plot_text=False,\n",
    "        height_factor=0.1\n",
    "    )\n",
    "\n",
    "ani = FuncAnimation(fig, update, frames=len(ts), interval=10)\n",
    "ani.save(\"video_trial.mp4\", writer=\"ffmpeg\", fps=60)\n",
    "plt.show()"
   ]
  },
  {
   "cell_type": "markdown",
   "metadata": {},
   "source": [
    "## Analysis of Produced data\n",
    "\n",
    "What is the data currently showing us?"
   ]
  }
 ],
 "metadata": {
  "celltoolbar": "Initialisation Cell",
  "kernelspec": {
   "display_name": "base",
   "language": "python",
   "name": "python3"
  },
  "language_info": {
   "codemirror_mode": {
    "name": "ipython",
    "version": 3
   },
   "file_extension": ".py",
   "mimetype": "text/x-python",
   "name": "python",
   "nbconvert_exporter": "python",
   "pygments_lexer": "ipython3",
   "version": "3.12.7"
  },
  "nav_menu": {},
  "toc": {
   "navigate_menu": true,
   "number_sections": true,
   "sideBar": false,
   "threshold": 6,
   "toc_cell": true,
   "toc_section_display": "block",
   "toc_window_display": false
  }
 },
 "nbformat": 4,
 "nbformat_minor": 1
}
